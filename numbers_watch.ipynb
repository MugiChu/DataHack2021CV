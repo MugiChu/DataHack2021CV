{
 "cells": [
  {
   "cell_type": "code",
   "execution_count": 1,
   "metadata": {},
   "outputs": [],
   "source": [
    "from imageai.Detection import ObjectDetection\n",
    "import pandas as pd\n",
    "import cv2 as cv\n",
    "import time"
   ]
  },
  {
   "cell_type": "code",
   "execution_count": 2,
   "metadata": {},
   "outputs": [],
   "source": [
    "camera = cv.VideoCapture('test.mp4')"
   ]
  },
  {
   "cell_type": "code",
   "execution_count": 3,
   "metadata": {},
   "outputs": [],
   "source": [
    "video = cv.VideoCapture(0)\n",
    "detect = ObjectDetection()\n",
    "detect.setModelTypeAsTinyYOLOv3()\n",
    "detect.setModelPath(\"yolo-tiny.h5\")\n",
    "detect.loadModel()"
   ]
  },
  {
   "cell_type": "code",
   "execution_count": 4,
   "metadata": {},
   "outputs": [],
   "source": [
    "finish = 0\n",
    "\n",
    "array_detection = []"
   ]
  },
  {
   "cell_type": "code",
   "execution_count": null,
   "metadata": {},
   "outputs": [],
   "source": [
    "while camera.isOpened():\n",
    "    ret, frame = camera.read()\n",
    "    \n",
    "    start = time.time()\n",
    "    if start - finish > 0.5:\n",
    "        _, array_detection = detect.detectObjectsFromImage(input_image=frame, input_type=\"array\", output_type=\"array\")\n",
    "        finish = time.time()\n",
    "        #print(array_detection)\n",
    "    \n",
    "            \n",
    "    for obj in array_detection:\n",
    "        coord = obj['box_points']\n",
    "        cv.rectangle(frame, (coord[0], coord[1]), (coord[2], coord[3]),(0, 0, 255))\n",
    "        cv.putText(frame, obj['name'], (coord[0], coord[1] - 6), cv.FONT_HERSHEY_DUPLEX, 1.0, (255, 255, 255), 1)\n",
    "          \n",
    "    cv.imshow('Test', frame)\n",
    "    if cv.waitKey(25) & 0xFF == ord('q'):\n",
    "        break\n",
    "        \n",
    "            \n",
    "cv2.destroyAllWindows()"
   ]
  },
  {
   "cell_type": "code",
   "execution_count": null,
   "metadata": {},
   "outputs": [],
   "source": []
  },
  {
   "cell_type": "code",
   "execution_count": null,
   "metadata": {},
   "outputs": [],
   "source": []
  }
 ],
 "metadata": {
  "kernelspec": {
   "display_name": "Python 3.8.5 64-bit ('base': conda)",
   "language": "python",
   "name": "python385jvsc74a57bd07e9a92db4a38f32dd16aefcd8b8342c7053fb1b6730d1817b4d5ca4c8846c246"
  },
  "language_info": {
   "codemirror_mode": {
    "name": "ipython",
    "version": 3
   },
   "file_extension": ".py",
   "mimetype": "text/x-python",
   "name": "python",
   "nbconvert_exporter": "python",
   "pygments_lexer": "ipython3",
   "version": "3.8.5"
  }
 },
 "nbformat": 4,
 "nbformat_minor": 4
}
